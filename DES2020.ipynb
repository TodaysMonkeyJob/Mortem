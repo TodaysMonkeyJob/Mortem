{
  "nbformat": 4,
  "nbformat_minor": 0,
  "metadata": {
    "colab": {
      "name": "DES2020.ipynb",
      "provenance": [],
      "collapsed_sections": [],
      "toc_visible": true,
      "machine_shape": "hm",
      "include_colab_link": true
    },
    "kernelspec": {
      "name": "python3",
      "display_name": "Python 3"
    },
    "accelerator": "GPU"
  },
  "cells": [
    {
      "cell_type": "markdown",
      "metadata": {
        "id": "view-in-github",
        "colab_type": "text"
      },
      "source": [
        "<a href=\"https://colab.research.google.com/github/oleg1601/Mortem/blob/master/DES2020.ipynb\" target=\"_parent\"><img src=\"https://colab.research.google.com/assets/colab-badge.svg\" alt=\"Open In Colab\"/></a>"
      ]
    },
    {
      "cell_type": "markdown",
      "metadata": {
        "id": "uEdnbBVXAI-X",
        "colab_type": "text"
      },
      "source": [
        "# Import Libraries"
      ]
    },
    {
      "cell_type": "code",
      "metadata": {
        "id": "J2FYrPgOKh6t",
        "colab_type": "code",
        "colab": {
          "base_uri": "https://localhost:8080/",
          "height": 34
        },
        "outputId": "e9f42cf8-5485-44c3-e096-2457da9ba717"
      },
      "source": [
        "import urllib.request\n",
        "import os\n",
        "import glob\n",
        "import numpy as np\n",
        "try:\n",
        "  # %tensorflow_version only exists in Colab.\n",
        "  %tensorflow_version 2.x\n",
        "except Exception:\n",
        "  pass\n",
        "from tensorflow.keras import layers\n",
        "from tensorflow import keras \n",
        "import tensorflow as tf"
      ],
      "execution_count": 15,
      "outputs": [
        {
          "output_type": "stream",
          "text": [
            "TensorFlow 2.x selected.\n"
          ],
          "name": "stdout"
        }
      ]
    },
    {
      "cell_type": "markdown",
      "metadata": {
        "id": "6H3ATAdp_URp",
        "colab_type": "text"
      },
      "source": [
        "# Get the Class names "
      ]
    },
    {
      "cell_type": "markdown",
      "metadata": {
        "id": "zlx6-LFL_jbi",
        "colab_type": "text"
      },
      "source": [
        "This file contains a subset of the quick draw classes. I choose around 100 classes from the dataset. "
      ]
    },
    {
      "cell_type": "code",
      "metadata": {
        "id": "XXv-xzU1sd88",
        "colab_type": "code",
        "outputId": "27f0a547-a834-4df0-b328-29ef146a3f06",
        "colab": {
          "base_uri": "https://localhost:8080/",
          "height": 202
        }
      },
      "source": [
        "!wget 'https://raw.githubusercontent.com/oleg1601/Mortem/master/Back_End/class_names.txt'"
      ],
      "execution_count": 5,
      "outputs": [
        {
          "output_type": "stream",
          "text": [
            "--2020-01-30 19:32:09--  https://raw.githubusercontent.com/oleg1601/Mortem/master/Back_End/class_names.txt\n",
            "Resolving raw.githubusercontent.com (raw.githubusercontent.com)... 151.101.0.133, 151.101.64.133, 151.101.128.133, ...\n",
            "Connecting to raw.githubusercontent.com (raw.githubusercontent.com)|151.101.0.133|:443... connected.\n",
            "HTTP request sent, awaiting response... 200 OK\n",
            "Length: 860 [text/plain]\n",
            "Saving to: ‘class_names.txt’\n",
            "\n",
            "\rclass_names.txt       0%[                    ]       0  --.-KB/s               \rclass_names.txt     100%[===================>]     860  --.-KB/s    in 0s      \n",
            "\n",
            "2020-01-30 19:32:09 (221 MB/s) - ‘class_names.txt’ saved [860/860]\n",
            "\n"
          ],
          "name": "stdout"
        }
      ]
    },
    {
      "cell_type": "markdown",
      "metadata": {
        "id": "4GL_TdMffD6-",
        "colab_type": "text"
      },
      "source": [
        "Read the classes names "
      ]
    },
    {
      "cell_type": "code",
      "metadata": {
        "id": "eP-OxOx5sy0b",
        "colab_type": "code",
        "outputId": "b7e5833b-8e0e-46a5-b6b6-fe525d76349b",
        "colab": {
          "base_uri": "https://localhost:8080/",
          "height": 34
        }
      },
      "source": [
        "f = open(\"class_names.txt\",\"r\")\n",
        "# And for reading use\n",
        "classes = f.readlines()\n",
        "f.close()\n",
        "count = len(classes)\n",
        "print(count)"
      ],
      "execution_count": 8,
      "outputs": [
        {
          "output_type": "stream",
          "text": [
            "100\n"
          ],
          "name": "stdout"
        }
      ]
    },
    {
      "cell_type": "code",
      "metadata": {
        "id": "lTE6D3uxtMc5",
        "colab_type": "code",
        "outputId": "8a1a8780-c547-4c5a-ca61-aa709cd3b70d",
        "colab": {
          "base_uri": "https://localhost:8080/",
          "height": 54
        }
      },
      "source": [
        "classes = [c.replace('\\n','').replace(' ','_') for c in classes]\n",
        "print(classes)"
      ],
      "execution_count": 9,
      "outputs": [
        {
          "output_type": "stream",
          "text": [
            "['drums', 'sun', 'laptop', 'anvil', 'baseball_bat', 'ladder', 'eyeglasses', 'grapes', 'book', 'dumbbell', 'traffic_light', 'wristwatch', 'wheel', 'shovel', 'bread', 'table', 'tennis_racquet', 'cloud', 'chair', 'headphones', 'face', 'eye', 'airplane', 'snake', 'lollipop', 'power_outlet', 'pants', 'mushroom', 'star', 'sword', 'clock', 'hot_dog', 'syringe', 'stop_sign', 'mountain', 'smiley_face', 'apple', 'bed', 'shorts', 'broom', 'diving_board', 'flower', 'spider', 'cell_phone', 'car', 'camera', 'tree', 'square', 'moon', 'radio', 'hat', 'pizza', 'axe', 'door', 'tent', 'umbrella', 'line', 'cup', 'fan', 'triangle', 'basketball', 'pillow', 'scissors', 't-shirt', 'tooth', 'alarm_clock', 'paper_clip', 'spoon', 'microphone', 'candle', 'pencil', 'envelope', 'saw', 'frying_pan', 'screwdriver', 'helmet', 'bridge', 'light_bulb', 'ceiling_fan', 'key', 'donut', 'bird', 'circle', 'beard', 'coffee_cup', 'butterfly', 'bench', 'rifle', 'cat', 'sock', 'ice_cream', 'moustache', 'suitcase', 'hammer', 'rainbow', 'knife', 'cookie', 'baseball', 'lightning', 'bicycle']\n"
          ],
          "name": "stdout"
        }
      ]
    },
    {
      "cell_type": "markdown",
      "metadata": {
        "id": "5NDfBHVjACAt",
        "colab_type": "text"
      },
      "source": [
        "# Download the Dataset "
      ]
    },
    {
      "cell_type": "markdown",
      "metadata": {
        "id": "7MC_PUS-fKjH",
        "colab_type": "text"
      },
      "source": [
        "Loop over the classes and download the currospondent data"
      ]
    },
    {
      "cell_type": "code",
      "metadata": {
        "id": "rdSUnpL0u22Q",
        "colab_type": "code",
        "colab": {
          "base_uri": "https://localhost:8080/",
          "height": 34
        },
        "outputId": "30fa7ecf-ee86-4c6b-dc23-b17a7abb2f80"
      },
      "source": [
        "!mkdir data"
      ],
      "execution_count": 11,
      "outputs": [
        {
          "output_type": "stream",
          "text": [
            "mkdir: cannot create directory ‘data’: File exists\n"
          ],
          "name": "stdout"
        }
      ]
    },
    {
      "cell_type": "code",
      "metadata": {
        "id": "22DPhL5FtWcQ",
        "colab_type": "code",
        "colab": {}
      },
      "source": [
        "def download():\n",
        "  \n",
        "  base = 'https://storage.googleapis.com/quickdraw_dataset/full/numpy_bitmap/'\n",
        "  for c in classes:\n",
        "    cls_url = c.replace('_', '%20')\n",
        "    path = base+cls_url+'.npy'\n",
        "    print(path)\n",
        "    urllib.request.urlretrieve(path, 'data/'+c+'.npy')"
      ],
      "execution_count": 0,
      "outputs": []
    },
    {
      "cell_type": "code",
      "metadata": {
        "id": "O5jF6TXXu-Bu",
        "colab_type": "code",
        "outputId": "9cefd20c-63f0-4c3d-fdc4-292d389b7294",
        "colab": {
          "base_uri": "https://localhost:8080/",
          "height": 1000
        }
      },
      "source": [
        "download() "
      ],
      "execution_count": 16,
      "outputs": [
        {
          "output_type": "stream",
          "text": [
            "https://storage.googleapis.com/quickdraw_dataset/full/numpy_bitmap/drums.npy\n",
            "https://storage.googleapis.com/quickdraw_dataset/full/numpy_bitmap/sun.npy\n",
            "https://storage.googleapis.com/quickdraw_dataset/full/numpy_bitmap/laptop.npy\n",
            "https://storage.googleapis.com/quickdraw_dataset/full/numpy_bitmap/anvil.npy\n",
            "https://storage.googleapis.com/quickdraw_dataset/full/numpy_bitmap/baseball%20bat.npy\n",
            "https://storage.googleapis.com/quickdraw_dataset/full/numpy_bitmap/ladder.npy\n",
            "https://storage.googleapis.com/quickdraw_dataset/full/numpy_bitmap/eyeglasses.npy\n",
            "https://storage.googleapis.com/quickdraw_dataset/full/numpy_bitmap/grapes.npy\n",
            "https://storage.googleapis.com/quickdraw_dataset/full/numpy_bitmap/book.npy\n",
            "https://storage.googleapis.com/quickdraw_dataset/full/numpy_bitmap/dumbbell.npy\n",
            "https://storage.googleapis.com/quickdraw_dataset/full/numpy_bitmap/traffic%20light.npy\n",
            "https://storage.googleapis.com/quickdraw_dataset/full/numpy_bitmap/wristwatch.npy\n",
            "https://storage.googleapis.com/quickdraw_dataset/full/numpy_bitmap/wheel.npy\n",
            "https://storage.googleapis.com/quickdraw_dataset/full/numpy_bitmap/shovel.npy\n",
            "https://storage.googleapis.com/quickdraw_dataset/full/numpy_bitmap/bread.npy\n",
            "https://storage.googleapis.com/quickdraw_dataset/full/numpy_bitmap/table.npy\n",
            "https://storage.googleapis.com/quickdraw_dataset/full/numpy_bitmap/tennis%20racquet.npy\n",
            "https://storage.googleapis.com/quickdraw_dataset/full/numpy_bitmap/cloud.npy\n",
            "https://storage.googleapis.com/quickdraw_dataset/full/numpy_bitmap/chair.npy\n",
            "https://storage.googleapis.com/quickdraw_dataset/full/numpy_bitmap/headphones.npy\n",
            "https://storage.googleapis.com/quickdraw_dataset/full/numpy_bitmap/face.npy\n",
            "https://storage.googleapis.com/quickdraw_dataset/full/numpy_bitmap/eye.npy\n",
            "https://storage.googleapis.com/quickdraw_dataset/full/numpy_bitmap/airplane.npy\n",
            "https://storage.googleapis.com/quickdraw_dataset/full/numpy_bitmap/snake.npy\n",
            "https://storage.googleapis.com/quickdraw_dataset/full/numpy_bitmap/lollipop.npy\n",
            "https://storage.googleapis.com/quickdraw_dataset/full/numpy_bitmap/power%20outlet.npy\n",
            "https://storage.googleapis.com/quickdraw_dataset/full/numpy_bitmap/pants.npy\n",
            "https://storage.googleapis.com/quickdraw_dataset/full/numpy_bitmap/mushroom.npy\n",
            "https://storage.googleapis.com/quickdraw_dataset/full/numpy_bitmap/star.npy\n",
            "https://storage.googleapis.com/quickdraw_dataset/full/numpy_bitmap/sword.npy\n",
            "https://storage.googleapis.com/quickdraw_dataset/full/numpy_bitmap/clock.npy\n",
            "https://storage.googleapis.com/quickdraw_dataset/full/numpy_bitmap/hot%20dog.npy\n",
            "https://storage.googleapis.com/quickdraw_dataset/full/numpy_bitmap/syringe.npy\n",
            "https://storage.googleapis.com/quickdraw_dataset/full/numpy_bitmap/stop%20sign.npy\n",
            "https://storage.googleapis.com/quickdraw_dataset/full/numpy_bitmap/mountain.npy\n",
            "https://storage.googleapis.com/quickdraw_dataset/full/numpy_bitmap/smiley%20face.npy\n",
            "https://storage.googleapis.com/quickdraw_dataset/full/numpy_bitmap/apple.npy\n",
            "https://storage.googleapis.com/quickdraw_dataset/full/numpy_bitmap/bed.npy\n",
            "https://storage.googleapis.com/quickdraw_dataset/full/numpy_bitmap/shorts.npy\n",
            "https://storage.googleapis.com/quickdraw_dataset/full/numpy_bitmap/broom.npy\n",
            "https://storage.googleapis.com/quickdraw_dataset/full/numpy_bitmap/diving%20board.npy\n",
            "https://storage.googleapis.com/quickdraw_dataset/full/numpy_bitmap/flower.npy\n",
            "https://storage.googleapis.com/quickdraw_dataset/full/numpy_bitmap/spider.npy\n",
            "https://storage.googleapis.com/quickdraw_dataset/full/numpy_bitmap/cell%20phone.npy\n",
            "https://storage.googleapis.com/quickdraw_dataset/full/numpy_bitmap/car.npy\n",
            "https://storage.googleapis.com/quickdraw_dataset/full/numpy_bitmap/camera.npy\n",
            "https://storage.googleapis.com/quickdraw_dataset/full/numpy_bitmap/tree.npy\n",
            "https://storage.googleapis.com/quickdraw_dataset/full/numpy_bitmap/square.npy\n",
            "https://storage.googleapis.com/quickdraw_dataset/full/numpy_bitmap/moon.npy\n",
            "https://storage.googleapis.com/quickdraw_dataset/full/numpy_bitmap/radio.npy\n",
            "https://storage.googleapis.com/quickdraw_dataset/full/numpy_bitmap/hat.npy\n",
            "https://storage.googleapis.com/quickdraw_dataset/full/numpy_bitmap/pizza.npy\n",
            "https://storage.googleapis.com/quickdraw_dataset/full/numpy_bitmap/axe.npy\n",
            "https://storage.googleapis.com/quickdraw_dataset/full/numpy_bitmap/door.npy\n",
            "https://storage.googleapis.com/quickdraw_dataset/full/numpy_bitmap/tent.npy\n",
            "https://storage.googleapis.com/quickdraw_dataset/full/numpy_bitmap/umbrella.npy\n",
            "https://storage.googleapis.com/quickdraw_dataset/full/numpy_bitmap/line.npy\n",
            "https://storage.googleapis.com/quickdraw_dataset/full/numpy_bitmap/cup.npy\n",
            "https://storage.googleapis.com/quickdraw_dataset/full/numpy_bitmap/fan.npy\n",
            "https://storage.googleapis.com/quickdraw_dataset/full/numpy_bitmap/triangle.npy\n",
            "https://storage.googleapis.com/quickdraw_dataset/full/numpy_bitmap/basketball.npy\n",
            "https://storage.googleapis.com/quickdraw_dataset/full/numpy_bitmap/pillow.npy\n",
            "https://storage.googleapis.com/quickdraw_dataset/full/numpy_bitmap/scissors.npy\n",
            "https://storage.googleapis.com/quickdraw_dataset/full/numpy_bitmap/t-shirt.npy\n",
            "https://storage.googleapis.com/quickdraw_dataset/full/numpy_bitmap/tooth.npy\n",
            "https://storage.googleapis.com/quickdraw_dataset/full/numpy_bitmap/alarm%20clock.npy\n",
            "https://storage.googleapis.com/quickdraw_dataset/full/numpy_bitmap/paper%20clip.npy\n",
            "https://storage.googleapis.com/quickdraw_dataset/full/numpy_bitmap/spoon.npy\n",
            "https://storage.googleapis.com/quickdraw_dataset/full/numpy_bitmap/microphone.npy\n",
            "https://storage.googleapis.com/quickdraw_dataset/full/numpy_bitmap/candle.npy\n",
            "https://storage.googleapis.com/quickdraw_dataset/full/numpy_bitmap/pencil.npy\n",
            "https://storage.googleapis.com/quickdraw_dataset/full/numpy_bitmap/envelope.npy\n",
            "https://storage.googleapis.com/quickdraw_dataset/full/numpy_bitmap/saw.npy\n",
            "https://storage.googleapis.com/quickdraw_dataset/full/numpy_bitmap/frying%20pan.npy\n",
            "https://storage.googleapis.com/quickdraw_dataset/full/numpy_bitmap/screwdriver.npy\n",
            "https://storage.googleapis.com/quickdraw_dataset/full/numpy_bitmap/helmet.npy\n",
            "https://storage.googleapis.com/quickdraw_dataset/full/numpy_bitmap/bridge.npy\n",
            "https://storage.googleapis.com/quickdraw_dataset/full/numpy_bitmap/light%20bulb.npy\n",
            "https://storage.googleapis.com/quickdraw_dataset/full/numpy_bitmap/ceiling%20fan.npy\n",
            "https://storage.googleapis.com/quickdraw_dataset/full/numpy_bitmap/key.npy\n",
            "https://storage.googleapis.com/quickdraw_dataset/full/numpy_bitmap/donut.npy\n",
            "https://storage.googleapis.com/quickdraw_dataset/full/numpy_bitmap/bird.npy\n",
            "https://storage.googleapis.com/quickdraw_dataset/full/numpy_bitmap/circle.npy\n",
            "https://storage.googleapis.com/quickdraw_dataset/full/numpy_bitmap/beard.npy\n",
            "https://storage.googleapis.com/quickdraw_dataset/full/numpy_bitmap/coffee%20cup.npy\n",
            "https://storage.googleapis.com/quickdraw_dataset/full/numpy_bitmap/butterfly.npy\n",
            "https://storage.googleapis.com/quickdraw_dataset/full/numpy_bitmap/bench.npy\n",
            "https://storage.googleapis.com/quickdraw_dataset/full/numpy_bitmap/rifle.npy\n",
            "https://storage.googleapis.com/quickdraw_dataset/full/numpy_bitmap/cat.npy\n",
            "https://storage.googleapis.com/quickdraw_dataset/full/numpy_bitmap/sock.npy\n",
            "https://storage.googleapis.com/quickdraw_dataset/full/numpy_bitmap/ice%20cream.npy\n",
            "https://storage.googleapis.com/quickdraw_dataset/full/numpy_bitmap/moustache.npy\n",
            "https://storage.googleapis.com/quickdraw_dataset/full/numpy_bitmap/suitcase.npy\n",
            "https://storage.googleapis.com/quickdraw_dataset/full/numpy_bitmap/hammer.npy\n",
            "https://storage.googleapis.com/quickdraw_dataset/full/numpy_bitmap/rainbow.npy\n",
            "https://storage.googleapis.com/quickdraw_dataset/full/numpy_bitmap/knife.npy\n",
            "https://storage.googleapis.com/quickdraw_dataset/full/numpy_bitmap/cookie.npy\n",
            "https://storage.googleapis.com/quickdraw_dataset/full/numpy_bitmap/baseball.npy\n",
            "https://storage.googleapis.com/quickdraw_dataset/full/numpy_bitmap/lightning.npy\n",
            "https://storage.googleapis.com/quickdraw_dataset/full/numpy_bitmap/bicycle.npy\n"
          ],
          "name": "stdout"
        }
      ]
    },
    {
      "cell_type": "markdown",
      "metadata": {
        "id": "6o30ipBPAQ5Y",
        "colab_type": "text"
      },
      "source": [
        "# Load the Data "
      ]
    },
    {
      "cell_type": "markdown",
      "metadata": {
        "id": "UBq3GXEKAYuO",
        "colab_type": "text"
      },
      "source": [
        "Each class contains different number samples of arrays stored as .npy format. Since we have some memory limitations we only load 5000 images per class.  "
      ]
    },
    {
      "cell_type": "code",
      "metadata": {
        "id": "6HEIgQNHYQnl",
        "colab_type": "code",
        "colab": {}
      },
      "source": [
        "def load_data(root, vfold_ratio=0.05, max_items_per_class= 20000 ):\n",
        "    all_files = glob.glob(os.path.join(root, '*.npy'))\n",
        "    # root -- announces the name of the folder, where our classes save\n",
        "    # vfold_ratio -- define in percent how many items from one class distribute for test, in our way it is 20% \n",
        "    # max_items_per_class -- number of elements which we take from one class\n",
        "    # glob.glob -- return a possibly-empty list of path names that match pathname, which must be a string containing a path specification.\n",
        "    # in our code we return pathway as os.path.join(folder's name; and add to it .npy to define it as numpy model)\n",
        "\n",
        "    #initialize variables \n",
        "    x = np.empty([0, 784]) # np.empty for X -- define empty array to store multi-dimensional data where \n",
        "                           # 784 count of pixel number in our pictures to order in memory.\n",
        "    y = np.empty([0])      # np.empty for Y -- define empty array to store sequence number of pictures from class\n",
        "    class_names = []       # define empty array to store class names from data\n",
        "\n",
        "    #load each data file \n",
        "    for idx, file in enumerate(all_files):     # define each file from data\n",
        "        data = np.load(file)                   # initialise load files\n",
        "        data = data[0: max_items_per_class, :] # load files from 0 to max_items_per_class, colon -- means all file in list\n",
        "        labels = np.full(data.shape[0], idx)   # np.full -- return a new array of given shape. \n",
        "                                               # The shape attribute for numpy arrays returns the dimensions of the array. \n",
        "                                               # If data has n rows and m columns, then data.shape is (n,m). So data.shape[0] is n.\n",
        "\n",
        "        x = np.concatenate((x, data), axis=0)  # Join a sequence of arrays along an existing axis\n",
        "        y = np.append(y, labels)               # np.append -- function is used to merge two arrays. \n",
        "                                               # This function returns a new array and the original array remains unchanged.\n",
        "\n",
        "        class_name, ext = os.path.splitext(os.path.basename(file)) \n",
        "        # Split the pathname path into a pair (root, ext) such that root + ext == path,\n",
        "        # and ext is empty or begins with a period and contains at most one period.\n",
        "        class_names.append(class_name) \n",
        "\n",
        "    data = None\n",
        "    labels = None\n",
        "    \n",
        "    #randomize the dataset \n",
        "    permutation = np.random.permutation(y.shape[0]) \n",
        "    x = x[permutation, :]\n",
        "    y = y[permutation]\n",
        "\n",
        "    #separate into training and testing \n",
        "    vfold_size = int(x.shape[0]/100*(vfold_ratio*100)) \n",
        "\n",
        "    x_test = x[0:vfold_size, :] # allocate files from 0 to vfold_size for testing, colon -- means all file in list\n",
        "    y_test = y[0:vfold_size]\n",
        "\n",
        "    x_train = x[vfold_size:x.shape[0], :] # allocate others files for training \n",
        "    y_train = y[vfold_size:y.shape[0]]\n",
        "    return x_train, y_train, x_test, y_test, class_names"
      ],
      "execution_count": 0,
      "outputs": []
    },
    {
      "cell_type": "code",
      "metadata": {
        "id": "K6uUjN-WL2Y9",
        "colab_type": "code",
        "colab": {}
      },
      "source": [
        "x_train, y_train, x_test, y_test, class_names = load_data('data') # load requable files\n",
        "num_classes = len(class_names) # count element for neural network\n",
        "image_size = 28 # define size of image"
      ],
      "execution_count": 0,
      "outputs": []
    },
    {
      "cell_type": "code",
      "metadata": {
        "id": "VhGEDS0SMgLK",
        "colab_type": "code",
        "outputId": "065991b5-2623-47c4-c500-6625ea2f79eb",
        "colab": {
          "base_uri": "https://localhost:8080/",
          "height": 34
        }
      },
      "source": [
        "print(len(x_train))"
      ],
      "execution_count": 19,
      "outputs": [
        {
          "output_type": "stream",
          "text": [
            "1900000\n"
          ],
          "name": "stdout"
        }
      ]
    },
    {
      "cell_type": "markdown",
      "metadata": {
        "id": "rNZmQvBWBBHE",
        "colab_type": "text"
      },
      "source": [
        "#Show some random data "
      ]
    },
    {
      "cell_type": "code",
      "metadata": {
        "id": "KfpDaHRkyMQC",
        "colab_type": "code",
        "outputId": "5711cbf8-54a2-4c00-db68-a883001dc663",
        "colab": {
          "base_uri": "https://localhost:8080/",
          "height": 282
        }
      },
      "source": [
        "import matplotlib.pyplot as plt\n",
        "from random import randint\n",
        "%matplotlib inline  \n",
        "idx = randint(0, len(x_train))\n",
        "plt.imshow(x_train[idx].reshape(28,28)) \n",
        "print(class_names[int(y_train[idx].item())])"
      ],
      "execution_count": 20,
      "outputs": [
        {
          "output_type": "stream",
          "text": [
            "hammer\n"
          ],
          "name": "stdout"
        },
        {
          "output_type": "display_data",
          "data": {
            "image/png": "[encoded data removed]",
            "text/plain": [
              "<Figure size 432x288 with 1 Axes>"
            ]
          },
          "metadata": {
            "tags": []
          }
        }
      ]
    },
    {
      "cell_type": "markdown",
      "metadata": {
        "id": "n8InHz5NBFrV",
        "colab_type": "text"
      },
      "source": [
        "# Preprocess the Data "
      ]
    },
    {
      "cell_type": "code",
      "metadata": {
        "id": "p2GHUq7D2r9e",
        "colab_type": "code",
        "colab": {}
      },
      "source": [
        "# Reshape and normalize\n",
        "x_train = x_train.reshape(x_train.shape[0], image_size, image_size, 1).astype('float32')\n",
        "x_test = x_test.reshape(x_test.shape[0], image_size, image_size, 1).astype('float32')\n",
        "# pre-proces the data by ensuring the image are of shape 28*28*1 and converting the pixels into a float type variable for training\n",
        "\n",
        "x_train /= 255.0 # x_train =np.interp(x_train, [0, 255], [0, 1]) -- alternatile form\n",
        "                 # in other word it is simpe interpolation for pixel scaling\n",
        "x_test /= 255.0\n",
        "\n",
        "# Convert class vectors to class matrices\n",
        "# we convert the class labels to one hot for trainig\n",
        "y_train = keras.utils.to_categorical(y_train, num_classes)\n",
        "y_test = keras.utils.to_categorical(y_test, num_classes)"
      ],
      "execution_count": 0,
      "outputs": []
    },
    {
      "cell_type": "markdown",
      "metadata": {
        "id": "rL6XAb4hBMSc",
        "colab_type": "text"
      },
      "source": [
        "# The Model "
      ]
    },
    {
      "cell_type": "code",
      "metadata": {
        "id": "uYUVV2wf2z8H",
        "colab_type": "code",
        "outputId": "ee5b4186-ec5b-4137-8c4d-e9b7ae141e22",
        "colab": {
          "base_uri": "https://localhost:8080/",
          "height": 470
        }
      },
      "source": [
        "# Define model with 9 layers\n",
        "model = keras.Sequential() # Define type of model anfd start add layers\n",
        "model.add(layers.Convolution2D(16, (3, 3), padding='same',\n",
        "                        input_shape=x_train.shape[1:], activation='relu'))\n",
        "model.add(layers.MaxPooling2D(pool_size=(2, 2)))\n",
        "model.add(layers.Convolution2D(32, (3, 3), padding='same', activation= 'relu'))\n",
        "model.add(layers.MaxPooling2D(pool_size=(2, 2)))\n",
        "model.add(layers.Convolution2D(64, (3, 3), padding='same', activation= 'relu'))\n",
        "model.add(layers.MaxPooling2D(pool_size =(2,2)))\n",
        "model.add(layers.Flatten())\n",
        "model.add(layers.Dense(64, activation='relu'))\n",
        "model.add(layers.Dense(100, activation='softmax')) \n",
        "# Initialize model\n",
        "Nadam = tf.keras.optimizers.Nadam()\n",
        "#adam = tf.keras.train.Adam()\n",
        "model.compile(loss='categorical_crossentropy',\n",
        "              optimizer=Nadam,\n",
        "              metrics=['top_k_categorical_accuracy'])\n",
        "print(model.summary())"
      ],
      "execution_count": 23,
      "outputs": [
        {
          "output_type": "stream",
          "text": [
            "Model: \"sequential_1\"\n",
            "_________________________________________________________________\n",
            "Layer (type)                 Output Shape              Param #   \n",
            "=================================================================\n",
            "conv2d_3 (Conv2D)            (None, 28, 28, 16)        160       \n",
            "_________________________________________________________________\n",
            "max_pooling2d_3 (MaxPooling2 (None, 14, 14, 16)        0         \n",
            "_________________________________________________________________\n",
            "conv2d_4 (Conv2D)            (None, 14, 14, 32)        4640      \n",
            "_________________________________________________________________\n",
            "max_pooling2d_4 (MaxPooling2 (None, 7, 7, 32)          0         \n",
            "_________________________________________________________________\n",
            "conv2d_5 (Conv2D)            (None, 7, 7, 64)          18496     \n",
            "_________________________________________________________________\n",
            "max_pooling2d_5 (MaxPooling2 (None, 3, 3, 64)          0         \n",
            "_________________________________________________________________\n",
            "flatten_1 (Flatten)          (None, 576)               0         \n",
            "_________________________________________________________________\n",
            "dense_2 (Dense)              (None, 64)                36928     \n",
            "_________________________________________________________________\n",
            "dense_3 (Dense)              (None, 100)               6500      \n",
            "=================================================================\n",
            "Total params: 66,724\n",
            "Trainable params: 66,724\n",
            "Non-trainable params: 0\n",
            "_________________________________________________________________\n",
            "None\n"
          ],
          "name": "stdout"
        }
      ]
    },
    {
      "cell_type": "markdown",
      "metadata": {
        "id": "_YRSRkOyBP1P",
        "colab_type": "text"
      },
      "source": [
        "# Training "
      ]
    },
    {
      "cell_type": "code",
      "metadata": {
        "id": "7OMEJ7kF3lsP",
        "colab_type": "code",
        "outputId": "f98be412-a95d-461c-804a-84fe8b0138a1",
        "colab": {
          "base_uri": "https://localhost:8080/",
          "height": 1000
        }
      },
      "source": [
        "history = model.fit(x = x_train, y = y_train, validation_split=0.01, batch_size=256, verbose=2, epochs=100)"
      ],
      "execution_count": 24,
      "outputs": [
        {
          "output_type": "stream",
          "text": [
            "Train on 1881000 samples, validate on 19000 samples\n",
            "Epoch 1/100\n",
            "1881000/1881000 - 55s - loss: 1.2532 - top_k_categorical_accuracy: 0.8847 - val_loss: 0.9520 - val_top_k_categorical_accuracy: 0.9245\n",
            "Epoch 2/100\n",
            "1881000/1881000 - 46s - loss: 0.8894 - top_k_categorical_accuracy: 0.9294 - val_loss: 0.8539 - val_top_k_categorical_accuracy: 0.9348\n",
            "Epoch 3/100\n",
            "1881000/1881000 - 45s - loss: 0.8222 - top_k_categorical_accuracy: 0.9359 - val_loss: 0.8135 - val_top_k_categorical_accuracy: 0.9370\n",
            "Epoch 4/100\n",
            "1881000/1881000 - 45s - loss: 0.7891 - top_k_categorical_accuracy: 0.9390 - val_loss: 0.7929 - val_top_k_categorical_accuracy: 0.9390\n",
            "Epoch 5/100\n",
            "1881000/1881000 - 46s - loss: 0.7677 - top_k_categorical_accuracy: 0.9408 - val_loss: 0.7763 - val_top_k_categorical_accuracy: 0.9416\n",
            "Epoch 6/100\n",
            "1881000/1881000 - 45s - loss: 0.7527 - top_k_categorical_accuracy: 0.9421 - val_loss: 0.7643 - val_top_k_categorical_accuracy: 0.9429\n",
            "Epoch 7/100\n",
            "1881000/1881000 - 45s - loss: 0.7414 - top_k_categorical_accuracy: 0.9432 - val_loss: 0.7637 - val_top_k_categorical_accuracy: 0.9421\n",
            "Epoch 8/100\n",
            "1881000/1881000 - 45s - loss: 0.7325 - top_k_categorical_accuracy: 0.9439 - val_loss: 0.7467 - val_top_k_categorical_accuracy: 0.9439\n",
            "Epoch 9/100\n",
            "1881000/1881000 - 45s - loss: 0.7252 - top_k_categorical_accuracy: 0.9447 - val_loss: 0.7369 - val_top_k_categorical_accuracy: 0.9451\n",
            "Epoch 10/100\n",
            "1881000/1881000 - 45s - loss: 0.7195 - top_k_categorical_accuracy: 0.9453 - val_loss: 0.7408 - val_top_k_categorical_accuracy: 0.9444\n",
            "Epoch 11/100\n",
            "1881000/1881000 - 46s - loss: 0.7150 - top_k_categorical_accuracy: 0.9456 - val_loss: 0.7399 - val_top_k_categorical_accuracy: 0.9436\n",
            "Epoch 12/100\n",
            "1881000/1881000 - 45s - loss: 0.7108 - top_k_categorical_accuracy: 0.9459 - val_loss: 0.7305 - val_top_k_categorical_accuracy: 0.9448\n",
            "Epoch 13/100\n",
            "1881000/1881000 - 46s - loss: 0.7072 - top_k_categorical_accuracy: 0.9463 - val_loss: 0.7271 - val_top_k_categorical_accuracy: 0.9456\n",
            "Epoch 14/100\n",
            "1881000/1881000 - 45s - loss: 0.7042 - top_k_categorical_accuracy: 0.9465 - val_loss: 0.7205 - val_top_k_categorical_accuracy: 0.9456\n",
            "Epoch 15/100\n",
            "1881000/1881000 - 45s - loss: 0.7017 - top_k_categorical_accuracy: 0.9467 - val_loss: 0.7267 - val_top_k_categorical_accuracy: 0.9454\n",
            "Epoch 16/100\n",
            "1881000/1881000 - 45s - loss: 0.6994 - top_k_categorical_accuracy: 0.9470 - val_loss: 0.7245 - val_top_k_categorical_accuracy: 0.9444\n",
            "Epoch 17/100\n",
            "1881000/1881000 - 45s - loss: 0.6975 - top_k_categorical_accuracy: 0.9472 - val_loss: 0.7229 - val_top_k_categorical_accuracy: 0.9448\n",
            "Epoch 18/100\n",
            "1881000/1881000 - 46s - loss: 0.6955 - top_k_categorical_accuracy: 0.9473 - val_loss: 0.7275 - val_top_k_categorical_accuracy: 0.9446\n",
            "Epoch 19/100\n",
            "1881000/1881000 - 45s - loss: 0.6941 - top_k_categorical_accuracy: 0.9475 - val_loss: 0.7179 - val_top_k_categorical_accuracy: 0.9453\n",
            "Epoch 20/100\n",
            "1881000/1881000 - 46s - loss: 0.6923 - top_k_categorical_accuracy: 0.9476 - val_loss: 0.7209 - val_top_k_categorical_accuracy: 0.9453\n",
            "Epoch 21/100\n",
            "1881000/1881000 - 46s - loss: 0.6907 - top_k_categorical_accuracy: 0.9477 - val_loss: 0.7186 - val_top_k_categorical_accuracy: 0.9450\n",
            "Epoch 22/100\n",
            "1881000/1881000 - 45s - loss: 0.6898 - top_k_categorical_accuracy: 0.9478 - val_loss: 0.7133 - val_top_k_categorical_accuracy: 0.9455\n",
            "Epoch 23/100\n",
            "1881000/1881000 - 45s - loss: 0.6883 - top_k_categorical_accuracy: 0.9480 - val_loss: 0.7195 - val_top_k_categorical_accuracy: 0.9448\n",
            "Epoch 24/100\n",
            "1881000/1881000 - 45s - loss: 0.6873 - top_k_categorical_accuracy: 0.9480 - val_loss: 0.7172 - val_top_k_categorical_accuracy: 0.9450\n",
            "Epoch 25/100\n",
            "1881000/1881000 - 46s - loss: 0.6862 - top_k_categorical_accuracy: 0.9482 - val_loss: 0.7179 - val_top_k_categorical_accuracy: 0.9463\n",
            "Epoch 26/100\n",
            "1881000/1881000 - 45s - loss: 0.6856 - top_k_categorical_accuracy: 0.9482 - val_loss: 0.7159 - val_top_k_categorical_accuracy: 0.9459\n",
            "Epoch 27/100\n",
            "1881000/1881000 - 46s - loss: 0.6848 - top_k_categorical_accuracy: 0.9483 - val_loss: 0.7128 - val_top_k_categorical_accuracy: 0.9464\n",
            "Epoch 28/100\n",
            "1881000/1881000 - 45s - loss: 0.6834 - top_k_categorical_accuracy: 0.9484 - val_loss: 0.7261 - val_top_k_categorical_accuracy: 0.9452\n",
            "Epoch 29/100\n",
            "1881000/1881000 - 45s - loss: 0.6831 - top_k_categorical_accuracy: 0.9484 - val_loss: 0.7161 - val_top_k_categorical_accuracy: 0.9452\n",
            "Epoch 30/100\n",
            "1881000/1881000 - 45s - loss: 0.6821 - top_k_categorical_accuracy: 0.9486 - val_loss: 0.7184 - val_top_k_categorical_accuracy: 0.9468\n",
            "Epoch 31/100\n",
            "1881000/1881000 - 45s - loss: 0.6815 - top_k_categorical_accuracy: 0.9486 - val_loss: 0.7147 - val_top_k_categorical_accuracy: 0.9458\n",
            "Epoch 32/100\n",
            "1881000/1881000 - 46s - loss: 0.6806 - top_k_categorical_accuracy: 0.9487 - val_loss: 0.7142 - val_top_k_categorical_accuracy: 0.9463\n",
            "Epoch 33/100\n",
            "1881000/1881000 - 46s - loss: 0.6797 - top_k_categorical_accuracy: 0.9488 - val_loss: 0.7172 - val_top_k_categorical_accuracy: 0.9455\n",
            "Epoch 34/100\n",
            "1881000/1881000 - 45s - loss: 0.6790 - top_k_categorical_accuracy: 0.9488 - val_loss: 0.7126 - val_top_k_categorical_accuracy: 0.9455\n",
            "Epoch 35/100\n",
            "1881000/1881000 - 45s - loss: 0.6782 - top_k_categorical_accuracy: 0.9489 - val_loss: 0.7132 - val_top_k_categorical_accuracy: 0.9453\n",
            "Epoch 36/100\n",
            "1881000/1881000 - 45s - loss: 0.6779 - top_k_categorical_accuracy: 0.9489 - val_loss: 0.7115 - val_top_k_categorical_accuracy: 0.9462\n",
            "Epoch 37/100\n",
            "1881000/1881000 - 45s - loss: 0.6768 - top_k_categorical_accuracy: 0.9490 - val_loss: 0.7147 - val_top_k_categorical_accuracy: 0.9455\n",
            "Epoch 38/100\n",
            "1881000/1881000 - 45s - loss: 0.6763 - top_k_categorical_accuracy: 0.9491 - val_loss: 0.7192 - val_top_k_categorical_accuracy: 0.9446\n",
            "Epoch 39/100\n",
            "1881000/1881000 - 46s - loss: 0.6757 - top_k_categorical_accuracy: 0.9490 - val_loss: 0.7109 - val_top_k_categorical_accuracy: 0.9467\n",
            "Epoch 40/100\n",
            "1881000/1881000 - 46s - loss: 0.6749 - top_k_categorical_accuracy: 0.9492 - val_loss: 0.7120 - val_top_k_categorical_accuracy: 0.9463\n",
            "Epoch 41/100\n",
            "1881000/1881000 - 45s - loss: 0.6746 - top_k_categorical_accuracy: 0.9492 - val_loss: 0.7131 - val_top_k_categorical_accuracy: 0.9467\n",
            "Epoch 42/100\n",
            "1881000/1881000 - 45s - loss: 0.6741 - top_k_categorical_accuracy: 0.9492 - val_loss: 0.7088 - val_top_k_categorical_accuracy: 0.9469\n",
            "Epoch 43/100\n",
            "1881000/1881000 - 45s - loss: 0.6738 - top_k_categorical_accuracy: 0.9492 - val_loss: 0.7127 - val_top_k_categorical_accuracy: 0.9463\n",
            "Epoch 44/100\n",
            "1881000/1881000 - 45s - loss: 0.6732 - top_k_categorical_accuracy: 0.9493 - val_loss: 0.7063 - val_top_k_categorical_accuracy: 0.9472\n",
            "Epoch 45/100\n",
            "1881000/1881000 - 45s - loss: 0.6728 - top_k_categorical_accuracy: 0.9493 - val_loss: 0.7120 - val_top_k_categorical_accuracy: 0.9464\n",
            "Epoch 46/100\n",
            "1881000/1881000 - 46s - loss: 0.6723 - top_k_categorical_accuracy: 0.9495 - val_loss: 0.7074 - val_top_k_categorical_accuracy: 0.9472\n",
            "Epoch 47/100\n",
            "1881000/1881000 - 45s - loss: 0.6720 - top_k_categorical_accuracy: 0.9494 - val_loss: 0.7042 - val_top_k_categorical_accuracy: 0.9461\n",
            "Epoch 48/100\n",
            "1881000/1881000 - 45s - loss: 0.6713 - top_k_categorical_accuracy: 0.9494 - val_loss: 0.7150 - val_top_k_categorical_accuracy: 0.9457\n",
            "Epoch 49/100\n",
            "1881000/1881000 - 45s - loss: 0.6708 - top_k_categorical_accuracy: 0.9495 - val_loss: 0.7123 - val_top_k_categorical_accuracy: 0.9467\n",
            "Epoch 50/100\n",
            "1881000/1881000 - 45s - loss: 0.6705 - top_k_categorical_accuracy: 0.9495 - val_loss: 0.7074 - val_top_k_categorical_accuracy: 0.9474\n",
            "Epoch 51/100\n",
            "1881000/1881000 - 45s - loss: 0.6702 - top_k_categorical_accuracy: 0.9496 - val_loss: 0.7077 - val_top_k_categorical_accuracy: 0.9475\n",
            "Epoch 52/100\n",
            "1881000/1881000 - 46s - loss: 0.6699 - top_k_categorical_accuracy: 0.9496 - val_loss: 0.7107 - val_top_k_categorical_accuracy: 0.9465\n",
            "Epoch 53/100\n",
            "1881000/1881000 - 45s - loss: 0.6695 - top_k_categorical_accuracy: 0.9496 - val_loss: 0.7233 - val_top_k_categorical_accuracy: 0.9456\n",
            "Epoch 54/100\n",
            "1881000/1881000 - 46s - loss: 0.6691 - top_k_categorical_accuracy: 0.9496 - val_loss: 0.7036 - val_top_k_categorical_accuracy: 0.9464\n",
            "Epoch 55/100\n",
            "1881000/1881000 - 45s - loss: 0.6687 - top_k_categorical_accuracy: 0.9497 - val_loss: 0.7065 - val_top_k_categorical_accuracy: 0.9470\n",
            "Epoch 56/100\n",
            "1881000/1881000 - 45s - loss: 0.6685 - top_k_categorical_accuracy: 0.9498 - val_loss: 0.7101 - val_top_k_categorical_accuracy: 0.9455\n",
            "Epoch 57/100\n",
            "1881000/1881000 - 45s - loss: 0.6681 - top_k_categorical_accuracy: 0.9498 - val_loss: 0.7079 - val_top_k_categorical_accuracy: 0.9469\n",
            "Epoch 58/100\n",
            "1881000/1881000 - 45s - loss: 0.6677 - top_k_categorical_accuracy: 0.9498 - val_loss: 0.7078 - val_top_k_categorical_accuracy: 0.9460\n",
            "Epoch 59/100\n",
            "1881000/1881000 - 45s - loss: 0.6674 - top_k_categorical_accuracy: 0.9498 - val_loss: 0.7081 - val_top_k_categorical_accuracy: 0.9466\n",
            "Epoch 60/100\n",
            "1881000/1881000 - 45s - loss: 0.6672 - top_k_categorical_accuracy: 0.9499 - val_loss: 0.7033 - val_top_k_categorical_accuracy: 0.9456\n",
            "Epoch 61/100\n",
            "1881000/1881000 - 45s - loss: 0.6667 - top_k_categorical_accuracy: 0.9499 - val_loss: 0.7108 - val_top_k_categorical_accuracy: 0.9463\n",
            "Epoch 62/100\n",
            "1881000/1881000 - 45s - loss: 0.6667 - top_k_categorical_accuracy: 0.9500 - val_loss: 0.7051 - val_top_k_categorical_accuracy: 0.9463\n",
            "Epoch 63/100\n",
            "1881000/1881000 - 45s - loss: 0.6663 - top_k_categorical_accuracy: 0.9499 - val_loss: 0.7086 - val_top_k_categorical_accuracy: 0.9463\n",
            "Epoch 64/100\n",
            "1881000/1881000 - 45s - loss: 0.6659 - top_k_categorical_accuracy: 0.9499 - val_loss: 0.7111 - val_top_k_categorical_accuracy: 0.9464\n",
            "Epoch 65/100\n",
            "1881000/1881000 - 45s - loss: 0.6658 - top_k_categorical_accuracy: 0.9500 - val_loss: 0.7022 - val_top_k_categorical_accuracy: 0.9467\n",
            "Epoch 66/100\n",
            "1881000/1881000 - 45s - loss: 0.6653 - top_k_categorical_accuracy: 0.9500 - val_loss: 0.7159 - val_top_k_categorical_accuracy: 0.9457\n",
            "Epoch 67/100\n",
            "1881000/1881000 - 45s - loss: 0.6652 - top_k_categorical_accuracy: 0.9501 - val_loss: 0.7038 - val_top_k_categorical_accuracy: 0.9468\n",
            "Epoch 68/100\n",
            "1881000/1881000 - 45s - loss: 0.6648 - top_k_categorical_accuracy: 0.9501 - val_loss: 0.6971 - val_top_k_categorical_accuracy: 0.9458\n",
            "Epoch 69/100\n",
            "1881000/1881000 - 45s - loss: 0.6647 - top_k_categorical_accuracy: 0.9502 - val_loss: 0.7060 - val_top_k_categorical_accuracy: 0.9465\n",
            "Epoch 70/100\n",
            "1881000/1881000 - 45s - loss: 0.6646 - top_k_categorical_accuracy: 0.9501 - val_loss: 0.7028 - val_top_k_categorical_accuracy: 0.9457\n",
            "Epoch 71/100\n",
            "1881000/1881000 - 45s - loss: 0.6643 - top_k_categorical_accuracy: 0.9502 - val_loss: 0.7064 - val_top_k_categorical_accuracy: 0.9471\n",
            "Epoch 72/100\n",
            "1881000/1881000 - 45s - loss: 0.6639 - top_k_categorical_accuracy: 0.9501 - val_loss: 0.7077 - val_top_k_categorical_accuracy: 0.9461\n",
            "Epoch 73/100\n",
            "1881000/1881000 - 45s - loss: 0.6637 - top_k_categorical_accuracy: 0.9502 - val_loss: 0.7000 - val_top_k_categorical_accuracy: 0.9466\n",
            "Epoch 74/100\n",
            "1881000/1881000 - 45s - loss: 0.6636 - top_k_categorical_accuracy: 0.9502 - val_loss: 0.7052 - val_top_k_categorical_accuracy: 0.9467\n",
            "Epoch 75/100\n",
            "1881000/1881000 - 45s - loss: 0.6635 - top_k_categorical_accuracy: 0.9501 - val_loss: 0.7120 - val_top_k_categorical_accuracy: 0.9457\n",
            "Epoch 76/100\n",
            "1881000/1881000 - 45s - loss: 0.6633 - top_k_categorical_accuracy: 0.9502 - val_loss: 0.7071 - val_top_k_categorical_accuracy: 0.9459\n",
            "Epoch 77/100\n",
            "1881000/1881000 - 45s - loss: 0.6630 - top_k_categorical_accuracy: 0.9503 - val_loss: 0.6990 - val_top_k_categorical_accuracy: 0.9469\n",
            "Epoch 78/100\n",
            "1881000/1881000 - 45s - loss: 0.6627 - top_k_categorical_accuracy: 0.9502 - val_loss: 0.7062 - val_top_k_categorical_accuracy: 0.9456\n",
            "Epoch 79/100\n",
            "1881000/1881000 - 45s - loss: 0.6626 - top_k_categorical_accuracy: 0.9502 - val_loss: 0.7005 - val_top_k_categorical_accuracy: 0.9471\n",
            "Epoch 80/100\n",
            "1881000/1881000 - 46s - loss: 0.6624 - top_k_categorical_accuracy: 0.9504 - val_loss: 0.6987 - val_top_k_categorical_accuracy: 0.9473\n",
            "Epoch 81/100\n",
            "1881000/1881000 - 45s - loss: 0.6619 - top_k_categorical_accuracy: 0.9504 - val_loss: 0.7020 - val_top_k_categorical_accuracy: 0.9464\n",
            "Epoch 82/100\n",
            "1881000/1881000 - 45s - loss: 0.6619 - top_k_categorical_accuracy: 0.9504 - val_loss: 0.7033 - val_top_k_categorical_accuracy: 0.9468\n",
            "Epoch 83/100\n",
            "1881000/1881000 - 45s - loss: 0.6620 - top_k_categorical_accuracy: 0.9504 - val_loss: 0.6984 - val_top_k_categorical_accuracy: 0.9470\n",
            "Epoch 84/100\n",
            "1881000/1881000 - 45s - loss: 0.6616 - top_k_categorical_accuracy: 0.9504 - val_loss: 0.7025 - val_top_k_categorical_accuracy: 0.9464\n",
            "Epoch 85/100\n",
            "1881000/1881000 - 45s - loss: 0.6612 - top_k_categorical_accuracy: 0.9505 - val_loss: 0.6983 - val_top_k_categorical_accuracy: 0.9464\n",
            "Epoch 86/100\n",
            "1881000/1881000 - 45s - loss: 0.6614 - top_k_categorical_accuracy: 0.9504 - val_loss: 0.6994 - val_top_k_categorical_accuracy: 0.9480\n",
            "Epoch 87/100\n",
            "1881000/1881000 - 46s - loss: 0.6610 - top_k_categorical_accuracy: 0.9504 - val_loss: 0.7075 - val_top_k_categorical_accuracy: 0.9458\n",
            "Epoch 88/100\n",
            "1881000/1881000 - 45s - loss: 0.6609 - top_k_categorical_accuracy: 0.9505 - val_loss: 0.7029 - val_top_k_categorical_accuracy: 0.9459\n",
            "Epoch 89/100\n",
            "1881000/1881000 - 45s - loss: 0.6606 - top_k_categorical_accuracy: 0.9505 - val_loss: 0.7036 - val_top_k_categorical_accuracy: 0.9467\n",
            "Epoch 90/100\n",
            "1881000/1881000 - 45s - loss: 0.6606 - top_k_categorical_accuracy: 0.9506 - val_loss: 0.7021 - val_top_k_categorical_accuracy: 0.9466\n",
            "Epoch 91/100\n",
            "1881000/1881000 - 45s - loss: 0.6604 - top_k_categorical_accuracy: 0.9505 - val_loss: 0.6968 - val_top_k_categorical_accuracy: 0.9471\n",
            "Epoch 92/100\n",
            "1881000/1881000 - 45s - loss: 0.6603 - top_k_categorical_accuracy: 0.9505 - val_loss: 0.7054 - val_top_k_categorical_accuracy: 0.9463\n",
            "Epoch 93/100\n",
            "1881000/1881000 - 45s - loss: 0.6600 - top_k_categorical_accuracy: 0.9506 - val_loss: 0.7024 - val_top_k_categorical_accuracy: 0.9461\n",
            "Epoch 94/100\n",
            "1881000/1881000 - 46s - loss: 0.6599 - top_k_categorical_accuracy: 0.9506 - val_loss: 0.6998 - val_top_k_categorical_accuracy: 0.9466\n",
            "Epoch 95/100\n",
            "1881000/1881000 - 45s - loss: 0.6596 - top_k_categorical_accuracy: 0.9506 - val_loss: 0.7010 - val_top_k_categorical_accuracy: 0.9463\n",
            "Epoch 96/100\n",
            "1881000/1881000 - 45s - loss: 0.6596 - top_k_categorical_accuracy: 0.9505 - val_loss: 0.6983 - val_top_k_categorical_accuracy: 0.9471\n",
            "Epoch 97/100\n",
            "1881000/1881000 - 45s - loss: 0.6597 - top_k_categorical_accuracy: 0.9506 - val_loss: 0.6962 - val_top_k_categorical_accuracy: 0.9474\n",
            "Epoch 98/100\n",
            "1881000/1881000 - 45s - loss: 0.6594 - top_k_categorical_accuracy: 0.9505 - val_loss: 0.7063 - val_top_k_categorical_accuracy: 0.9455\n",
            "Epoch 99/100\n",
            "1881000/1881000 - 45s - loss: 0.6593 - top_k_categorical_accuracy: 0.9506 - val_loss: 0.7036 - val_top_k_categorical_accuracy: 0.9464\n",
            "Epoch 100/100\n",
            "1881000/1881000 - 45s - loss: 0.6590 - top_k_categorical_accuracy: 0.9506 - val_loss: 0.7053 - val_top_k_categorical_accuracy: 0.9462\n"
          ],
          "name": "stdout"
        }
      ]
    },
    {
      "cell_type": "markdown",
      "metadata": {
        "id": "d2KztY7qEn9_",
        "colab_type": "text"
      },
      "source": [
        "# Testing "
      ]
    },
    {
      "cell_type": "code",
      "metadata": {
        "id": "ssaZczS7DxeA",
        "colab_type": "code",
        "outputId": "a5385fee-9839-4ab1-b93b-409c2c1b62bc",
        "colab": {
          "base_uri": "https://localhost:8080/",
          "height": 34
        }
      },
      "source": [
        "score = model.evaluate(x_test, y_test, verbose=0)\n",
        "print('Test accuarcy: {:0.2f}%'.format(score[1] * 100))"
      ],
      "execution_count": 25,
      "outputs": [
        {
          "output_type": "stream",
          "text": [
            "Test accuarcy: 94.56%\n"
          ],
          "name": "stdout"
        }
      ]
    },
    {
      "cell_type": "code",
      "metadata": {
        "id": "v-XvTwjo0ak4",
        "colab_type": "code",
        "outputId": "fc3c83c0-f7ff-43f6-e137-cf88647abfdd",
        "colab": {
          "base_uri": "https://localhost:8080/",
          "height": 295
        }
      },
      "source": [
        "plt.plot(history.history['top_k_categorical_accuracy'])\n",
        "plt.plot(history.history['val_top_k_categorical_accuracy'])\n",
        "plt.title('Model accuracy')\n",
        "plt.ylabel('Accuracy')\n",
        "plt.xlabel('Epoch')\n",
        "plt.legend(['Train', 'Test'], loc='upper left')\n",
        "plt.show()"
      ],
      "execution_count": 26,
      "outputs": [
        {
          "output_type": "display_data",
          "data": {
            "image/png": "[encoded data removed]",
            "text/plain": [
              "<Figure size 432x288 with 1 Axes>"
            ]
          },
          "metadata": {
            "tags": []
          }
        }
      ]
    },
    {
      "cell_type": "code",
      "metadata": {
        "id": "Ji8SeGLB0czw",
        "colab_type": "code",
        "outputId": "faf403a9-ebb1-4949-a914-16ee62faf96d",
        "colab": {
          "base_uri": "https://localhost:8080/",
          "height": 295
        }
      },
      "source": [
        "plt.plot(history.history['loss'])\n",
        "plt.plot(history.history['val_loss'])\n",
        "plt.title('Model loss')\n",
        "plt.ylabel('Loss')\n",
        "plt.xlabel('Epoch')\n",
        "plt.legend(['Train', 'Test'], loc='upper left')\n",
        "plt.show()"
      ],
      "execution_count": 27,
      "outputs": [
        {
          "output_type": "display_data",
          "data": {
            "image/png": "[encoded data removed]",
            "text/plain": [
              "<Figure size 432x288 with 1 Axes>"
            ]
          },
          "metadata": {
            "tags": []
          }
        }
      ]
    },
    {
      "cell_type": "markdown",
      "metadata": {
        "id": "9xBM_w0VBbNr",
        "colab_type": "text"
      },
      "source": [
        "# Inference "
      ]
    },
    {
      "cell_type": "code",
      "metadata": {
        "id": "ADPlAas8kU4R",
        "colab_type": "code",
        "outputId": "54ccc44d-3c54-4a48-a712-2531362e72d6",
        "colab": {
          "base_uri": "https://localhost:8080/",
          "height": 298
        }
      },
      "source": [
        "import matplotlib.pyplot as plt\n",
        "from random import randint\n",
        "%matplotlib inline  \n",
        "idx = randint(0, len(x_test))\n",
        "img = x_test[idx] ######## Check it with screenshots\n",
        "#plt.subplot(2,2,1)  # Building Space for Image\n",
        "plt.imshow(img.squeeze())\n",
        "pred = model.predict(np.expand_dims(img, axis=0))[0]\n",
        "indicator = (-pred).argsort()[:5]\n",
        "latex = [class_names[x] for x in indicator] # Possible Variants\n",
        "indicator.sort() # Sort value of indicator\n",
        "new_ind = indicator[::-1] # Making reverse values of indicator\n",
        "print(latex)\n",
        "print(new_ind)"
      ],
      "execution_count": 0,
      "outputs": [
        {
          "output_type": "stream",
          "text": [
            "['pants', 'axe', 'tent', 'shorts', 'tooth']\n",
            "[89 67 66 29 24]\n"
          ],
          "name": "stdout"
        },
        {
          "output_type": "display_data",
          "data": {
            "image/png": "[encoded data removed]",
            "text/plain": [
              "<Figure size 432x288 with 1 Axes>"
            ]
          },
          "metadata": {
            "tags": []
          }
        }
      ]
    },
    {
      "cell_type": "code",
      "metadata": {
        "id": "qyol_bTblanw",
        "colab_type": "code",
        "outputId": "2c982fd2-6085-461f-a90a-1f94d439bd3e",
        "colab": {
          "base_uri": "https://localhost:8080/",
          "height": 312
        }
      },
      "source": [
        "#plt.subplot(2,1,2)  # Building Space for Diagram\n",
        "plot = plt.bar(latex, new_ind, color = \"darkblue\", alpha=0.8, width=0.7) \n",
        "# Initialize diagram with possible variants of our image\n",
        "plot[0].set_color('r') # Draw Max point in Red colour\n",
        "for value in plot: # Initialize for writing indicatour value in the top of bar \n",
        "    height = value.get_height()\n",
        "    plt.text(value.get_x() + value.get_width()/2.0,\n",
        "             1.002*height,'%d' % int(height  ), ha='center', va='bottom')\n",
        "plt.title('Possible Prediction')\n",
        "plt.xlabel('Variants')\n",
        "plt.ylabel('Percent value')"
      ],
      "execution_count": 0,
      "outputs": [
        {
          "output_type": "execute_result",
          "data": {
            "text/plain": [
              "Text(0, 0.5, 'Percent value')"
            ]
          },
          "metadata": {
            "tags": []
          },
          "execution_count": 19
        },
        {
          "output_type": "display_data",
          "data": {
            "image/png": "[encoded data removed]",
            "text/plain": [
              "<Figure size 432x288 with 1 Axes>"
            ]
          },
          "metadata": {
            "tags": []
          }
        }
      ]
    },
    {
      "cell_type": "markdown",
      "metadata": {
        "id": "YPp5D82YBhM-",
        "colab_type": "text"
      },
      "source": [
        "# Store the classes "
      ]
    },
    {
      "cell_type": "code",
      "metadata": {
        "id": "NoFI1msFYpCN",
        "colab_type": "code",
        "colab": {}
      },
      "source": [
        "with open('class_names.txt', 'w') as file_handler:\n",
        "    for item in class_names:\n",
        "        file_handler.write(\"{}\\n\".format(item))"
      ],
      "execution_count": 0,
      "outputs": []
    },
    {
      "cell_type": "markdown",
      "metadata": {
        "id": "mfJ6dpaDBpRx",
        "colab_type": "text"
      },
      "source": [
        "# Install TensorFlowJS"
      ]
    },
    {
      "cell_type": "code",
      "metadata": {
        "id": "hJJDfp9mY9Xh",
        "colab_type": "code",
        "outputId": "ef90194a-5fa8-4b74-cbba-0a93aee0fb13",
        "colab": {
          "base_uri": "https://localhost:8080/",
          "height": 1000
        }
      },
      "source": [
        "!pip install \"tensorflow>=1.7.0\"\n",
        "!pip install \"enum34>=1.1.0\"\n",
        "!pip install tensorflowjs "
      ],
      "execution_count": 1,
      "outputs": [
        {
          "output_type": "stream",
          "text": [
            "Requirement already satisfied: tensorflow>=1.7.0 in /usr/local/lib/python3.6/dist-packages (1.15.0)\n",
            "Requirement already satisfied: wheel>=0.26 in /usr/local/lib/python3.6/dist-packages (from tensorflow>=1.7.0) (0.33.6)\n",
            "Requirement already satisfied: tensorflow-estimator==1.15.1 in /usr/local/lib/python3.6/dist-packages (from tensorflow>=1.7.0) (1.15.1)\n",
            "Requirement already satisfied: astor>=0.6.0 in /usr/local/lib/python3.6/dist-packages (from tensorflow>=1.7.0) (0.8.1)\n",
            "Requirement already satisfied: wrapt>=1.11.1 in /usr/local/lib/python3.6/dist-packages (from tensorflow>=1.7.0) (1.11.2)\n",
            "Requirement already satisfied: absl-py>=0.7.0 in /usr/local/lib/python3.6/dist-packages (from tensorflow>=1.7.0) (0.9.0)\n",
            "Requirement already satisfied: keras-preprocessing>=1.0.5 in /usr/local/lib/python3.6/dist-packages (from tensorflow>=1.7.0) (1.1.0)\n",
            "Requirement already satisfied: gast==0.2.2 in /usr/local/lib/python3.6/dist-packages (from tensorflow>=1.7.0) (0.2.2)\n",
            "Requirement already satisfied: six>=1.10.0 in /usr/local/lib/python3.6/dist-packages (from tensorflow>=1.7.0) (1.12.0)\n",
            "Requirement already satisfied: protobuf>=3.6.1 in /usr/local/lib/python3.6/dist-packages (from tensorflow>=1.7.0) (3.10.0)\n",
            "Requirement already satisfied: keras-applications>=1.0.8 in /usr/local/lib/python3.6/dist-packages (from tensorflow>=1.7.0) (1.0.8)\n",
            "Requirement already satisfied: google-pasta>=0.1.6 in /usr/local/lib/python3.6/dist-packages (from tensorflow>=1.7.0) (0.1.8)\n",
            "Requirement already satisfied: numpy<2.0,>=1.16.0 in /usr/local/lib/python3.6/dist-packages (from tensorflow>=1.7.0) (1.17.5)\n",
            "Requirement already satisfied: opt-einsum>=2.3.2 in /usr/local/lib/python3.6/dist-packages (from tensorflow>=1.7.0) (3.1.0)\n",
            "Requirement already satisfied: termcolor>=1.1.0 in /usr/local/lib/python3.6/dist-packages (from tensorflow>=1.7.0) (1.1.0)\n",
            "Requirement already satisfied: tensorboard<1.16.0,>=1.15.0 in /usr/local/lib/python3.6/dist-packages (from tensorflow>=1.7.0) (1.15.0)\n",
            "Requirement already satisfied: grpcio>=1.8.6 in /usr/local/lib/python3.6/dist-packages (from tensorflow>=1.7.0) (1.15.0)\n",
            "Requirement already satisfied: setuptools in /usr/local/lib/python3.6/dist-packages (from protobuf>=3.6.1->tensorflow>=1.7.0) (42.0.2)\n",
            "Requirement already satisfied: h5py in /usr/local/lib/python3.6/dist-packages (from keras-applications>=1.0.8->tensorflow>=1.7.0) (2.8.0)\n",
            "Requirement already satisfied: werkzeug>=0.11.15 in /usr/local/lib/python3.6/dist-packages (from tensorboard<1.16.0,>=1.15.0->tensorflow>=1.7.0) (0.16.0)\n",
            "Requirement already satisfied: markdown>=2.6.8 in /usr/local/lib/python3.6/dist-packages (from tensorboard<1.16.0,>=1.15.0->tensorflow>=1.7.0) (3.1.1)\n",
            "Collecting enum34>=1.1.0\n",
            "  Downloading https://files.pythonhosted.org/packages/af/42/cb9355df32c69b553e72a2e28daee25d1611d2c0d9c272aa1d34204205b2/enum34-1.1.6-py3-none-any.whl\n",
            "Installing collected packages: enum34\n",
            "Successfully installed enum34-1.1.6\n"
          ],
          "name": "stdout"
        },
        {
          "output_type": "display_data",
          "data": {
            "application/vnd.colab-display-data+json": {
              "pip_warning": {
                "packages": [
                  "enum"
                ]
              }
            }
          },
          "metadata": {
            "tags": []
          }
        },
        {
          "output_type": "stream",
          "text": [
            "Collecting tensorflowjs\n",
            "\u001b[?25l  Downloading https://files.pythonhosted.org/packages/2e/eb/fa9182b5c8c1f8a47379bfe67a8b0a09ca0aaeb828bcff41948fa742a78c/tensorflowjs-1.5.2-py3-none-any.whl (56kB)\n",
            "\r\u001b[K     |█████▊                          | 10kB 28.0MB/s eta 0:00:01\r\u001b[K     |███████████▌                    | 20kB 1.8MB/s eta 0:00:01\r\u001b[K     |█████████████████▎              | 30kB 2.6MB/s eta 0:00:01\r\u001b[K     |███████████████████████         | 40kB 1.7MB/s eta 0:00:01\r\u001b[K     |████████████████████████████▉   | 51kB 2.2MB/s eta 0:00:01\r\u001b[K     |████████████████████████████████| 61kB 2.0MB/s \n",
            "\u001b[?25hRequirement already satisfied: six>=1.12.0 in /usr/local/lib/python3.6/dist-packages (from tensorflowjs) (1.12.0)\n",
            "Requirement already satisfied: gast==0.2.2 in /usr/local/lib/python3.6/dist-packages (from tensorflowjs) (0.2.2)\n",
            "Requirement already satisfied: numpy>=1.16.4 in /usr/local/lib/python3.6/dist-packages (from tensorflowjs) (1.17.5)\n",
            "Requirement already satisfied: h5py>=2.8.0 in /usr/local/lib/python3.6/dist-packages (from tensorflowjs) (2.8.0)\n",
            "Collecting PyInquirer==1.0.3\n",
            "  Downloading https://files.pythonhosted.org/packages/fb/4c/434b7c454010a284b49d6f1d446fe8dc5960415613d8c0225b9e2efb6724/PyInquirer-1.0.3.tar.gz\n",
            "Collecting tensorflow-cpu==2.1.0\n",
            "\u001b[?25l  Downloading https://files.pythonhosted.org/packages/1f/a9/d8e5118b4cc096633c04677809f0000519c43043b01311da02678349acf4/tensorflow_cpu-2.1.0-cp36-cp36m-manylinux2010_x86_64.whl (104.6MB)\n",
            "\u001b[K     |████████████████████████████████| 104.6MB 31kB/s \n",
            "\u001b[?25hRequirement already satisfied: tensorflow-hub==0.7.0 in /usr/local/lib/python3.6/dist-packages (from tensorflowjs) (0.7.0)\n",
            "Collecting prompt_toolkit==1.0.14\n",
            "\u001b[?25l  Downloading https://files.pythonhosted.org/packages/ee/3d/b25d35a9f0d381dd1c02d8e04b37c353caaaff4bc32150328eeebe4931f5/prompt_toolkit-1.0.14-py3-none-any.whl (248kB)\n",
            "\u001b[K     |████████████████████████████████| 256kB 47.4MB/s \n",
            "\u001b[?25hCollecting Pygments>=2.2.0\n",
            "\u001b[?25l  Downloading https://files.pythonhosted.org/packages/be/39/32da3184734730c0e4d3fa3b2b5872104668ad6dc1b5a73d8e477e5fe967/Pygments-2.5.2-py2.py3-none-any.whl (896kB)\n",
            "\u001b[K     |████████████████████████████████| 901kB 34.2MB/s \n",
            "\u001b[?25hRequirement already satisfied: regex>=2016.11.21 in /usr/local/lib/python3.6/dist-packages (from PyInquirer==1.0.3->tensorflowjs) (2019.12.20)\n",
            "Collecting tensorflow-estimator<2.2.0,>=2.1.0rc0\n",
            "\u001b[?25l  Downloading https://files.pythonhosted.org/packages/18/90/b77c328a1304437ab1310b463e533fa7689f4bfc41549593056d812fab8e/tensorflow_estimator-2.1.0-py2.py3-none-any.whl (448kB)\n",
            "\u001b[K     |████████████████████████████████| 450kB 51.8MB/s \n",
            "\u001b[?25hRequirement already satisfied: google-pasta>=0.1.6 in /usr/local/lib/python3.6/dist-packages (from tensorflow-cpu==2.1.0->tensorflowjs) (0.1.8)\n",
            "Collecting tensorboard<2.2.0,>=2.1.0\n",
            "\u001b[?25l  Downloading https://files.pythonhosted.org/packages/40/23/53ffe290341cd0855d595b0a2e7485932f473798af173bbe3a584b99bb06/tensorboard-2.1.0-py3-none-any.whl (3.8MB)\n",
            "\u001b[K     |████████████████████████████████| 3.8MB 27.0MB/s \n",
            "\u001b[?25hRequirement already satisfied: keras-applications>=1.0.8 in /usr/local/lib/python3.6/dist-packages (from tensorflow-cpu==2.1.0->tensorflowjs) (1.0.8)\n",
            "Requirement already satisfied: keras-preprocessing>=1.1.0 in /usr/local/lib/python3.6/dist-packages (from tensorflow-cpu==2.1.0->tensorflowjs) (1.1.0)\n",
            "Requirement already satisfied: opt-einsum>=2.3.2 in /usr/local/lib/python3.6/dist-packages (from tensorflow-cpu==2.1.0->tensorflowjs) (3.1.0)\n",
            "Requirement already satisfied: protobuf>=3.8.0 in /usr/local/lib/python3.6/dist-packages (from tensorflow-cpu==2.1.0->tensorflowjs) (3.10.0)\n",
            "Requirement already satisfied: wrapt>=1.11.1 in /usr/local/lib/python3.6/dist-packages (from tensorflow-cpu==2.1.0->tensorflowjs) (1.11.2)\n",
            "Requirement already satisfied: astor>=0.6.0 in /usr/local/lib/python3.6/dist-packages (from tensorflow-cpu==2.1.0->tensorflowjs) (0.8.1)\n",
            "Requirement already satisfied: scipy==1.4.1; python_version >= \"3\" in /usr/local/lib/python3.6/dist-packages (from tensorflow-cpu==2.1.0->tensorflowjs) (1.4.1)\n",
            "Requirement already satisfied: grpcio>=1.8.6 in /usr/local/lib/python3.6/dist-packages (from tensorflow-cpu==2.1.0->tensorflowjs) (1.15.0)\n",
            "Requirement already satisfied: termcolor>=1.1.0 in /usr/local/lib/python3.6/dist-packages (from tensorflow-cpu==2.1.0->tensorflowjs) (1.1.0)\n",
            "Requirement already satisfied: wheel>=0.26; python_version >= \"3\" in /usr/local/lib/python3.6/dist-packages (from tensorflow-cpu==2.1.0->tensorflowjs) (0.33.6)\n",
            "Requirement already satisfied: absl-py>=0.7.0 in /usr/local/lib/python3.6/dist-packages (from tensorflow-cpu==2.1.0->tensorflowjs) (0.9.0)\n",
            "Requirement already satisfied: wcwidth in /usr/local/lib/python3.6/dist-packages (from prompt_toolkit==1.0.14->PyInquirer==1.0.3->tensorflowjs) (0.1.8)\n",
            "Requirement already satisfied: google-auth-oauthlib<0.5,>=0.4.1 in /usr/local/lib/python3.6/dist-packages (from tensorboard<2.2.0,>=2.1.0->tensorflow-cpu==2.1.0->tensorflowjs) (0.4.1)\n",
            "Requirement already satisfied: requests<3,>=2.21.0 in /usr/local/lib/python3.6/dist-packages (from tensorboard<2.2.0,>=2.1.0->tensorflow-cpu==2.1.0->tensorflowjs) (2.21.0)\n",
            "Requirement already satisfied: setuptools>=41.0.0 in /usr/local/lib/python3.6/dist-packages (from tensorboard<2.2.0,>=2.1.0->tensorflow-cpu==2.1.0->tensorflowjs) (42.0.2)\n",
            "Collecting google-auth<2,>=1.6.3\n",
            "\u001b[?25l  Downloading https://files.pythonhosted.org/packages/1c/6d/7aae38a9022f982cf8167775c7fc299f203417b698c27080ce09060bba07/google_auth-1.11.0-py2.py3-none-any.whl (76kB)\n",
            "\u001b[K     |████████████████████████████████| 81kB 10.0MB/s \n",
            "\u001b[?25hRequirement already satisfied: markdown>=2.6.8 in /usr/local/lib/python3.6/dist-packages (from tensorboard<2.2.0,>=2.1.0->tensorflow-cpu==2.1.0->tensorflowjs) (3.1.1)\n",
            "Requirement already satisfied: werkzeug>=0.11.15 in /usr/local/lib/python3.6/dist-packages (from tensorboard<2.2.0,>=2.1.0->tensorflow-cpu==2.1.0->tensorflowjs) (0.16.0)\n",
            "Requirement already satisfied: requests-oauthlib>=0.7.0 in /usr/local/lib/python3.6/dist-packages (from google-auth-oauthlib<0.5,>=0.4.1->tensorboard<2.2.0,>=2.1.0->tensorflow-cpu==2.1.0->tensorflowjs) (1.3.0)\n",
            "Requirement already satisfied: chardet<3.1.0,>=3.0.2 in /usr/local/lib/python3.6/dist-packages (from requests<3,>=2.21.0->tensorboard<2.2.0,>=2.1.0->tensorflow-cpu==2.1.0->tensorflowjs) (3.0.4)\n",
            "Requirement already satisfied: certifi>=2017.4.17 in /usr/local/lib/python3.6/dist-packages (from requests<3,>=2.21.0->tensorboard<2.2.0,>=2.1.0->tensorflow-cpu==2.1.0->tensorflowjs) (2019.11.28)\n",
            "Requirement already satisfied: urllib3<1.25,>=1.21.1 in /usr/local/lib/python3.6/dist-packages (from requests<3,>=2.21.0->tensorboard<2.2.0,>=2.1.0->tensorflow-cpu==2.1.0->tensorflowjs) (1.24.3)\n",
            "Requirement already satisfied: idna<2.9,>=2.5 in /usr/local/lib/python3.6/dist-packages (from requests<3,>=2.21.0->tensorboard<2.2.0,>=2.1.0->tensorflow-cpu==2.1.0->tensorflowjs) (2.8)\n",
            "Requirement already satisfied: pyasn1-modules>=0.2.1 in /usr/local/lib/python3.6/dist-packages (from google-auth<2,>=1.6.3->tensorboard<2.2.0,>=2.1.0->tensorflow-cpu==2.1.0->tensorflowjs) (0.2.7)\n",
            "Requirement already satisfied: cachetools<5.0,>=2.0.0 in /usr/local/lib/python3.6/dist-packages (from google-auth<2,>=1.6.3->tensorboard<2.2.0,>=2.1.0->tensorflow-cpu==2.1.0->tensorflowjs) (4.0.0)\n",
            "Requirement already satisfied: rsa<4.1,>=3.1.4 in /usr/local/lib/python3.6/dist-packages (from google-auth<2,>=1.6.3->tensorboard<2.2.0,>=2.1.0->tensorflow-cpu==2.1.0->tensorflowjs) (4.0)\n",
            "Requirement already satisfied: oauthlib>=3.0.0 in /usr/local/lib/python3.6/dist-packages (from requests-oauthlib>=0.7.0->google-auth-oauthlib<0.5,>=0.4.1->tensorboard<2.2.0,>=2.1.0->tensorflow-cpu==2.1.0->tensorflowjs) (3.1.0)\n",
            "Requirement already satisfied: pyasn1<0.5.0,>=0.4.6 in /usr/local/lib/python3.6/dist-packages (from pyasn1-modules>=0.2.1->google-auth<2,>=1.6.3->tensorboard<2.2.0,>=2.1.0->tensorflow-cpu==2.1.0->tensorflowjs) (0.4.8)\n",
            "Building wheels for collected packages: PyInquirer\n",
            "  Building wheel for PyInquirer (setup.py) ... \u001b[?25l\u001b[?25hdone\n",
            "  Created wheel for PyInquirer: filename=PyInquirer-1.0.3-cp36-none-any.whl size=32853 sha256=779191c6d2623868854225277de84396264c590f3eec9f0e503f1caf008395a7\n",
            "  Stored in directory: /root/.cache/pip/wheels/52/6c/b1/3e4b0e8daf42a92883c7641c0ea8ffb62e0490ebed2faa55ad\n",
            "Successfully built PyInquirer\n",
            "\u001b[31mERROR: tensorflow 1.15.0 has requirement tensorboard<1.16.0,>=1.15.0, but you'll have tensorboard 2.1.0 which is incompatible.\u001b[0m\n",
            "\u001b[31mERROR: tensorflow 1.15.0 has requirement tensorflow-estimator==1.15.1, but you'll have tensorflow-estimator 2.1.0 which is incompatible.\u001b[0m\n",
            "\u001b[31mERROR: tensorboard 2.1.0 has requirement grpcio>=1.24.3, but you'll have grpcio 1.15.0 which is incompatible.\u001b[0m\n",
            "\u001b[31mERROR: google-colab 1.0.0 has requirement google-auth~=1.4.0, but you'll have google-auth 1.11.0 which is incompatible.\u001b[0m\n",
            "\u001b[31mERROR: datascience 0.10.6 has requirement folium==0.2.1, but you'll have folium 0.8.3 which is incompatible.\u001b[0m\n",
            "Installing collected packages: prompt-toolkit, Pygments, PyInquirer, tensorflow-estimator, google-auth, tensorboard, tensorflow-cpu, tensorflowjs\n",
            "  Found existing installation: prompt-toolkit 1.0.18\n",
            "    Uninstalling prompt-toolkit-1.0.18:\n",
            "      Successfully uninstalled prompt-toolkit-1.0.18\n",
            "  Found existing installation: Pygments 2.1.3\n",
            "    Uninstalling Pygments-2.1.3:\n",
            "      Successfully uninstalled Pygments-2.1.3\n",
            "  Found existing installation: tensorflow-estimator 1.15.1\n",
            "    Uninstalling tensorflow-estimator-1.15.1:\n",
            "      Successfully uninstalled tensorflow-estimator-1.15.1\n",
            "  Found existing installation: google-auth 1.4.2\n",
            "    Uninstalling google-auth-1.4.2:\n",
            "      Successfully uninstalled google-auth-1.4.2\n",
            "  Found existing installation: tensorboard 1.15.0\n",
            "    Uninstalling tensorboard-1.15.0:\n",
            "      Successfully uninstalled tensorboard-1.15.0\n",
            "Successfully installed PyInquirer-1.0.3 Pygments-2.5.2 google-auth-1.11.0 prompt-toolkit-1.0.14 tensorboard-2.1.0 tensorflow-cpu-2.1.0 tensorflow-estimator-2.1.0 tensorflowjs-1.5.2\n"
          ],
          "name": "stdout"
        },
        {
          "output_type": "display_data",
          "data": {
            "application/vnd.colab-display-data+json": {
              "pip_warning": {
                "packages": [
                  "google",
                  "prompt_toolkit",
                  "pygments"
                ]
              }
            }
          },
          "metadata": {
            "tags": []
          }
        }
      ]
    },
    {
      "cell_type": "markdown",
      "metadata": {
        "id": "-oBl0ZKVB00d",
        "colab_type": "text"
      },
      "source": [
        "# Save and Convert "
      ]
    },
    {
      "cell_type": "code",
      "metadata": {
        "id": "XVICB3TbZGb2",
        "colab_type": "code",
        "colab": {}
      },
      "source": [
        "model.save('keras.h5')"
      ],
      "execution_count": 0,
      "outputs": []
    },
    {
      "cell_type": "code",
      "metadata": {
        "id": "bTWWlGdWZOvs",
        "colab_type": "code",
        "colab": {}
      },
      "source": [
        "!mkdir model\n",
        "!tensorflowjs_converter --input_format keras keras.h5 model/"
      ],
      "execution_count": 0,
      "outputs": []
    },
    {
      "cell_type": "markdown",
      "metadata": {
        "id": "JKYxE2MEB6LV",
        "colab_type": "text"
      },
      "source": [
        "# Zip and Download "
      ]
    },
    {
      "cell_type": "code",
      "metadata": {
        "id": "865-t79uaB63",
        "colab_type": "code",
        "colab": {}
      },
      "source": [
        "!cp class_names.txt model/class_names.txt"
      ],
      "execution_count": 0,
      "outputs": []
    },
    {
      "cell_type": "code",
      "metadata": {
        "id": "GLC-MzW8ZXTa",
        "colab_type": "code",
        "outputId": "7d0522b1-a9de-40fc-f6f3-fb1282cc0dc5",
        "colab": {
          "base_uri": "https://localhost:8080/",
          "height": 84
        }
      },
      "source": [
        "!zip -r model.zip model "
      ],
      "execution_count": 32,
      "outputs": [
        {
          "output_type": "stream",
          "text": [
            "  adding: model/ (stored 0%)\n",
            "  adding: model/model.json (deflated 82%)\n",
            "  adding: model/class_names.txt (deflated 41%)\n",
            "  adding: model/group1-shard1of1.bin (deflated 7%)\n"
          ],
          "name": "stdout"
        }
      ]
    },
    {
      "cell_type": "code",
      "metadata": {
        "id": "4vfPR03xZZeD",
        "colab_type": "code",
        "colab": {}
      },
      "source": [
        "from google.colab import files\n",
        "files.download('model.zip')"
      ],
      "execution_count": 0,
      "outputs": []
    }
  ]
}